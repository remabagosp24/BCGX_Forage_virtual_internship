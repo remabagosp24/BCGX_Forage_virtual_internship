{
 "cells": [
  {
   "cell_type": "markdown",
   "metadata": {},
   "source": [
    "## BCG X Forage Virtual Internship"
   ]
  },
  {
   "cell_type": "code",
   "execution_count": 1,
   "metadata": {},
   "outputs": [],
   "source": [
    "#  import library \n",
    "import pandas as pd\n",
    "import matplotlib.pyplot as plt\n",
    "import numpy as np\n",
    "import scipy"
   ]
  },
  {
   "cell_type": "code",
   "execution_count": null,
   "metadata": {},
   "outputs": [],
   "source": [
    "# reading and importing the data\n",
    "df_price = pd.read_csv('data_bcgx/price_data.csv')\n",
    "df_client_data = pd.read_csv('data_bcgx/client_data.csv')"
   ]
  },
  {
   "cell_type": "markdown",
   "metadata": {},
   "source": [
    "##  Analyzing Data \n",
    "+ Price data"
   ]
  },
  {
   "cell_type": "code",
   "execution_count": 3,
   "metadata": {},
   "outputs": [
    {
     "data": {
      "application/vnd.microsoft.datawrangler.viewer.v0+json": {
       "columns": [
        {
         "name": "index",
         "rawType": "int64",
         "type": "integer"
        },
        {
         "name": "id",
         "rawType": "object",
         "type": "string"
        },
        {
         "name": "price_date",
         "rawType": "object",
         "type": "string"
        },
        {
         "name": "price_off_peak_var",
         "rawType": "float64",
         "type": "float"
        },
        {
         "name": "price_peak_var",
         "rawType": "float64",
         "type": "float"
        },
        {
         "name": "price_mid_peak_var",
         "rawType": "float64",
         "type": "float"
        },
        {
         "name": "price_off_peak_fix",
         "rawType": "float64",
         "type": "float"
        },
        {
         "name": "price_peak_fix",
         "rawType": "float64",
         "type": "float"
        },
        {
         "name": "price_mid_peak_fix",
         "rawType": "float64",
         "type": "float"
        }
       ],
       "conversionMethod": "pd.DataFrame",
       "ref": "19a6a645-646c-4d7a-9059-237a8765fb3c",
       "rows": [
        [
         "0",
         "038af19179925da21a25619c5a24b745",
         "2015-01-01",
         "0.151367",
         "0.0",
         "0.0",
         "44.26693116",
         "0.0",
         "0.0"
        ],
        [
         "1",
         "038af19179925da21a25619c5a24b745",
         "2015-02-01",
         "0.151367",
         "0.0",
         "0.0",
         "44.26693116",
         "0.0",
         "0.0"
        ],
        [
         "2",
         "038af19179925da21a25619c5a24b745",
         "2015-03-01",
         "0.151367",
         "0.0",
         "0.0",
         "44.26693116",
         "0.0",
         "0.0"
        ],
        [
         "3",
         "038af19179925da21a25619c5a24b745",
         "2015-04-01",
         "0.149626",
         "0.0",
         "0.0",
         "44.26693116",
         "0.0",
         "0.0"
        ],
        [
         "4",
         "038af19179925da21a25619c5a24b745",
         "2015-05-01",
         "0.149626",
         "0.0",
         "0.0",
         "44.26693116",
         "0.0",
         "0.0"
        ]
       ],
       "shape": {
        "columns": 8,
        "rows": 5
       }
      },
      "text/html": [
       "<div>\n",
       "<style scoped>\n",
       "    .dataframe tbody tr th:only-of-type {\n",
       "        vertical-align: middle;\n",
       "    }\n",
       "\n",
       "    .dataframe tbody tr th {\n",
       "        vertical-align: top;\n",
       "    }\n",
       "\n",
       "    .dataframe thead th {\n",
       "        text-align: right;\n",
       "    }\n",
       "</style>\n",
       "<table border=\"1\" class=\"dataframe\">\n",
       "  <thead>\n",
       "    <tr style=\"text-align: right;\">\n",
       "      <th></th>\n",
       "      <th>id</th>\n",
       "      <th>price_date</th>\n",
       "      <th>price_off_peak_var</th>\n",
       "      <th>price_peak_var</th>\n",
       "      <th>price_mid_peak_var</th>\n",
       "      <th>price_off_peak_fix</th>\n",
       "      <th>price_peak_fix</th>\n",
       "      <th>price_mid_peak_fix</th>\n",
       "    </tr>\n",
       "  </thead>\n",
       "  <tbody>\n",
       "    <tr>\n",
       "      <th>0</th>\n",
       "      <td>038af19179925da21a25619c5a24b745</td>\n",
       "      <td>2015-01-01</td>\n",
       "      <td>0.151367</td>\n",
       "      <td>0.0</td>\n",
       "      <td>0.0</td>\n",
       "      <td>44.266931</td>\n",
       "      <td>0.0</td>\n",
       "      <td>0.0</td>\n",
       "    </tr>\n",
       "    <tr>\n",
       "      <th>1</th>\n",
       "      <td>038af19179925da21a25619c5a24b745</td>\n",
       "      <td>2015-02-01</td>\n",
       "      <td>0.151367</td>\n",
       "      <td>0.0</td>\n",
       "      <td>0.0</td>\n",
       "      <td>44.266931</td>\n",
       "      <td>0.0</td>\n",
       "      <td>0.0</td>\n",
       "    </tr>\n",
       "    <tr>\n",
       "      <th>2</th>\n",
       "      <td>038af19179925da21a25619c5a24b745</td>\n",
       "      <td>2015-03-01</td>\n",
       "      <td>0.151367</td>\n",
       "      <td>0.0</td>\n",
       "      <td>0.0</td>\n",
       "      <td>44.266931</td>\n",
       "      <td>0.0</td>\n",
       "      <td>0.0</td>\n",
       "    </tr>\n",
       "    <tr>\n",
       "      <th>3</th>\n",
       "      <td>038af19179925da21a25619c5a24b745</td>\n",
       "      <td>2015-04-01</td>\n",
       "      <td>0.149626</td>\n",
       "      <td>0.0</td>\n",
       "      <td>0.0</td>\n",
       "      <td>44.266931</td>\n",
       "      <td>0.0</td>\n",
       "      <td>0.0</td>\n",
       "    </tr>\n",
       "    <tr>\n",
       "      <th>4</th>\n",
       "      <td>038af19179925da21a25619c5a24b745</td>\n",
       "      <td>2015-05-01</td>\n",
       "      <td>0.149626</td>\n",
       "      <td>0.0</td>\n",
       "      <td>0.0</td>\n",
       "      <td>44.266931</td>\n",
       "      <td>0.0</td>\n",
       "      <td>0.0</td>\n",
       "    </tr>\n",
       "  </tbody>\n",
       "</table>\n",
       "</div>"
      ],
      "text/plain": [
       "                                 id  price_date  price_off_peak_var  \\\n",
       "0  038af19179925da21a25619c5a24b745  2015-01-01            0.151367   \n",
       "1  038af19179925da21a25619c5a24b745  2015-02-01            0.151367   \n",
       "2  038af19179925da21a25619c5a24b745  2015-03-01            0.151367   \n",
       "3  038af19179925da21a25619c5a24b745  2015-04-01            0.149626   \n",
       "4  038af19179925da21a25619c5a24b745  2015-05-01            0.149626   \n",
       "\n",
       "   price_peak_var  price_mid_peak_var  price_off_peak_fix  price_peak_fix  \\\n",
       "0             0.0                 0.0           44.266931             0.0   \n",
       "1             0.0                 0.0           44.266931             0.0   \n",
       "2             0.0                 0.0           44.266931             0.0   \n",
       "3             0.0                 0.0           44.266931             0.0   \n",
       "4             0.0                 0.0           44.266931             0.0   \n",
       "\n",
       "   price_mid_peak_fix  \n",
       "0                 0.0  \n",
       "1                 0.0  \n",
       "2                 0.0  \n",
       "3                 0.0  \n",
       "4                 0.0  "
      ]
     },
     "execution_count": 3,
     "metadata": {},
     "output_type": "execute_result"
    }
   ],
   "source": [
    "df_price.head()"
   ]
  },
  {
   "cell_type": "code",
   "execution_count": 4,
   "metadata": {},
   "outputs": [
    {
     "data": {
      "application/vnd.microsoft.datawrangler.viewer.v0+json": {
       "columns": [
        {
         "name": "index",
         "rawType": "int64",
         "type": "integer"
        },
        {
         "name": "id",
         "rawType": "object",
         "type": "string"
        },
        {
         "name": "price_date",
         "rawType": "object",
         "type": "string"
        },
        {
         "name": "price_off_peak_var",
         "rawType": "float64",
         "type": "float"
        },
        {
         "name": "price_peak_var",
         "rawType": "float64",
         "type": "float"
        },
        {
         "name": "price_mid_peak_var",
         "rawType": "float64",
         "type": "float"
        },
        {
         "name": "price_off_peak_fix",
         "rawType": "float64",
         "type": "float"
        },
        {
         "name": "price_peak_fix",
         "rawType": "float64",
         "type": "float"
        },
        {
         "name": "price_mid_peak_fix",
         "rawType": "float64",
         "type": "float"
        }
       ],
       "conversionMethod": "pd.DataFrame",
       "ref": "23526258-06c2-403f-88ad-b532da484fec",
       "rows": [
        [
         "192997",
         "16f51cdc2baa19af0b940ee1b3dd17d5",
         "2015-08-01",
         "0.119916",
         "0.102232",
         "0.076257",
         "40.728885",
         "24.43733004",
         "16.29155496"
        ],
        [
         "192998",
         "16f51cdc2baa19af0b940ee1b3dd17d5",
         "2015-09-01",
         "0.119916",
         "0.102232",
         "0.076257",
         "40.728885",
         "24.43733004",
         "16.29155496"
        ],
        [
         "192999",
         "16f51cdc2baa19af0b940ee1b3dd17d5",
         "2015-10-01",
         "0.119916",
         "0.102232",
         "0.076257",
         "40.728885",
         "24.43733004",
         "16.29155496"
        ],
        [
         "193000",
         "16f51cdc2baa19af0b940ee1b3dd17d5",
         "2015-11-01",
         "0.119916",
         "0.102232",
         "0.076257",
         "40.728885",
         "24.43733004",
         "16.29155496"
        ],
        [
         "193001",
         "16f51cdc2baa19af0b940ee1b3dd17d5",
         "2015-12-01",
         "0.119916",
         "0.102232",
         "0.076257",
         "40.728885",
         "24.43733004",
         "16.29155496"
        ]
       ],
       "shape": {
        "columns": 8,
        "rows": 5
       }
      },
      "text/html": [
       "<div>\n",
       "<style scoped>\n",
       "    .dataframe tbody tr th:only-of-type {\n",
       "        vertical-align: middle;\n",
       "    }\n",
       "\n",
       "    .dataframe tbody tr th {\n",
       "        vertical-align: top;\n",
       "    }\n",
       "\n",
       "    .dataframe thead th {\n",
       "        text-align: right;\n",
       "    }\n",
       "</style>\n",
       "<table border=\"1\" class=\"dataframe\">\n",
       "  <thead>\n",
       "    <tr style=\"text-align: right;\">\n",
       "      <th></th>\n",
       "      <th>id</th>\n",
       "      <th>price_date</th>\n",
       "      <th>price_off_peak_var</th>\n",
       "      <th>price_peak_var</th>\n",
       "      <th>price_mid_peak_var</th>\n",
       "      <th>price_off_peak_fix</th>\n",
       "      <th>price_peak_fix</th>\n",
       "      <th>price_mid_peak_fix</th>\n",
       "    </tr>\n",
       "  </thead>\n",
       "  <tbody>\n",
       "    <tr>\n",
       "      <th>192997</th>\n",
       "      <td>16f51cdc2baa19af0b940ee1b3dd17d5</td>\n",
       "      <td>2015-08-01</td>\n",
       "      <td>0.119916</td>\n",
       "      <td>0.102232</td>\n",
       "      <td>0.076257</td>\n",
       "      <td>40.728885</td>\n",
       "      <td>24.43733</td>\n",
       "      <td>16.291555</td>\n",
       "    </tr>\n",
       "    <tr>\n",
       "      <th>192998</th>\n",
       "      <td>16f51cdc2baa19af0b940ee1b3dd17d5</td>\n",
       "      <td>2015-09-01</td>\n",
       "      <td>0.119916</td>\n",
       "      <td>0.102232</td>\n",
       "      <td>0.076257</td>\n",
       "      <td>40.728885</td>\n",
       "      <td>24.43733</td>\n",
       "      <td>16.291555</td>\n",
       "    </tr>\n",
       "    <tr>\n",
       "      <th>192999</th>\n",
       "      <td>16f51cdc2baa19af0b940ee1b3dd17d5</td>\n",
       "      <td>2015-10-01</td>\n",
       "      <td>0.119916</td>\n",
       "      <td>0.102232</td>\n",
       "      <td>0.076257</td>\n",
       "      <td>40.728885</td>\n",
       "      <td>24.43733</td>\n",
       "      <td>16.291555</td>\n",
       "    </tr>\n",
       "    <tr>\n",
       "      <th>193000</th>\n",
       "      <td>16f51cdc2baa19af0b940ee1b3dd17d5</td>\n",
       "      <td>2015-11-01</td>\n",
       "      <td>0.119916</td>\n",
       "      <td>0.102232</td>\n",
       "      <td>0.076257</td>\n",
       "      <td>40.728885</td>\n",
       "      <td>24.43733</td>\n",
       "      <td>16.291555</td>\n",
       "    </tr>\n",
       "    <tr>\n",
       "      <th>193001</th>\n",
       "      <td>16f51cdc2baa19af0b940ee1b3dd17d5</td>\n",
       "      <td>2015-12-01</td>\n",
       "      <td>0.119916</td>\n",
       "      <td>0.102232</td>\n",
       "      <td>0.076257</td>\n",
       "      <td>40.728885</td>\n",
       "      <td>24.43733</td>\n",
       "      <td>16.291555</td>\n",
       "    </tr>\n",
       "  </tbody>\n",
       "</table>\n",
       "</div>"
      ],
      "text/plain": [
       "                                      id  price_date  price_off_peak_var  \\\n",
       "192997  16f51cdc2baa19af0b940ee1b3dd17d5  2015-08-01            0.119916   \n",
       "192998  16f51cdc2baa19af0b940ee1b3dd17d5  2015-09-01            0.119916   \n",
       "192999  16f51cdc2baa19af0b940ee1b3dd17d5  2015-10-01            0.119916   \n",
       "193000  16f51cdc2baa19af0b940ee1b3dd17d5  2015-11-01            0.119916   \n",
       "193001  16f51cdc2baa19af0b940ee1b3dd17d5  2015-12-01            0.119916   \n",
       "\n",
       "        price_peak_var  price_mid_peak_var  price_off_peak_fix  \\\n",
       "192997        0.102232            0.076257           40.728885   \n",
       "192998        0.102232            0.076257           40.728885   \n",
       "192999        0.102232            0.076257           40.728885   \n",
       "193000        0.102232            0.076257           40.728885   \n",
       "193001        0.102232            0.076257           40.728885   \n",
       "\n",
       "        price_peak_fix  price_mid_peak_fix  \n",
       "192997        24.43733           16.291555  \n",
       "192998        24.43733           16.291555  \n",
       "192999        24.43733           16.291555  \n",
       "193000        24.43733           16.291555  \n",
       "193001        24.43733           16.291555  "
      ]
     },
     "execution_count": 4,
     "metadata": {},
     "output_type": "execute_result"
    }
   ],
   "source": [
    "df_price.tail()"
   ]
  },
  {
   "cell_type": "code",
   "execution_count": 5,
   "metadata": {},
   "outputs": [
    {
     "name": "stdout",
     "output_type": "stream",
     "text": [
      "<class 'pandas.core.frame.DataFrame'>\n",
      "RangeIndex: 193002 entries, 0 to 193001\n",
      "Data columns (total 8 columns):\n",
      " #   Column              Non-Null Count   Dtype  \n",
      "---  ------              --------------   -----  \n",
      " 0   id                  193002 non-null  object \n",
      " 1   price_date          193002 non-null  object \n",
      " 2   price_off_peak_var  193002 non-null  float64\n",
      " 3   price_peak_var      193002 non-null  float64\n",
      " 4   price_mid_peak_var  193002 non-null  float64\n",
      " 5   price_off_peak_fix  193002 non-null  float64\n",
      " 6   price_peak_fix      193002 non-null  float64\n",
      " 7   price_mid_peak_fix  193002 non-null  float64\n",
      "dtypes: float64(6), object(2)\n",
      "memory usage: 11.8+ MB\n"
     ]
    }
   ],
   "source": [
    "df_price.info()"
   ]
  },
  {
   "cell_type": "code",
   "execution_count": 7,
   "metadata": {},
   "outputs": [
    {
     "data": {
      "text/plain": [
       "(193002, 8)"
      ]
     },
     "execution_count": 7,
     "metadata": {},
     "output_type": "execute_result"
    }
   ],
   "source": [
    "df_price.shape"
   ]
  },
  {
   "cell_type": "code",
   "execution_count": 8,
   "metadata": {},
   "outputs": [
    {
     "data": {
      "text/plain": [
       "0"
      ]
     },
     "execution_count": 8,
     "metadata": {},
     "output_type": "execute_result"
    }
   ],
   "source": [
    "df_price.duplicated().sum()"
   ]
  },
  {
   "cell_type": "code",
   "execution_count": 9,
   "metadata": {},
   "outputs": [
    {
     "data": {
      "text/plain": [
       "id                    0\n",
       "price_date            0\n",
       "price_off_peak_var    0\n",
       "price_peak_var        0\n",
       "price_mid_peak_var    0\n",
       "price_off_peak_fix    0\n",
       "price_peak_fix        0\n",
       "price_mid_peak_fix    0\n",
       "dtype: int64"
      ]
     },
     "execution_count": 9,
     "metadata": {},
     "output_type": "execute_result"
    }
   ],
   "source": [
    "df_price.isna().sum()"
   ]
  },
  {
   "cell_type": "code",
   "execution_count": 18,
   "metadata": {},
   "outputs": [
    {
     "data": {
      "text/plain": [
       "Index(['id', 'price_date', 'price_off_peak_var', 'price_peak_var',\n",
       "       'price_mid_peak_var', 'price_off_peak_fix', 'price_peak_fix',\n",
       "       'price_mid_peak_fix'],\n",
       "      dtype='object')"
      ]
     },
     "execution_count": 18,
     "metadata": {},
     "output_type": "execute_result"
    }
   ],
   "source": [
    "df_price.columns"
   ]
  },
  {
   "cell_type": "code",
   "execution_count": null,
   "metadata": {},
   "outputs": [],
   "source": []
  },
  {
   "cell_type": "code",
   "execution_count": null,
   "metadata": {},
   "outputs": [],
   "source": []
  },
  {
   "cell_type": "markdown",
   "metadata": {},
   "source": [
    "# Analyze Data\n",
    "+ Client Data"
   ]
  },
  {
   "cell_type": "code",
   "execution_count": 10,
   "metadata": {},
   "outputs": [
    {
     "data": {
      "application/vnd.microsoft.datawrangler.viewer.v0+json": {
       "columns": [
        {
         "name": "index",
         "rawType": "int64",
         "type": "integer"
        },
        {
         "name": "id",
         "rawType": "object",
         "type": "string"
        },
        {
         "name": "channel_sales",
         "rawType": "object",
         "type": "string"
        },
        {
         "name": "cons_12m",
         "rawType": "int64",
         "type": "integer"
        },
        {
         "name": "cons_gas_12m",
         "rawType": "int64",
         "type": "integer"
        },
        {
         "name": "cons_last_month",
         "rawType": "int64",
         "type": "integer"
        },
        {
         "name": "date_activ",
         "rawType": "object",
         "type": "string"
        },
        {
         "name": "date_end",
         "rawType": "object",
         "type": "string"
        },
        {
         "name": "date_modif_prod",
         "rawType": "object",
         "type": "string"
        },
        {
         "name": "date_renewal",
         "rawType": "object",
         "type": "string"
        },
        {
         "name": "forecast_cons_12m",
         "rawType": "float64",
         "type": "float"
        },
        {
         "name": "forecast_cons_year",
         "rawType": "int64",
         "type": "integer"
        },
        {
         "name": "forecast_discount_energy",
         "rawType": "float64",
         "type": "float"
        },
        {
         "name": "forecast_meter_rent_12m",
         "rawType": "float64",
         "type": "float"
        },
        {
         "name": "forecast_price_energy_off_peak",
         "rawType": "float64",
         "type": "float"
        },
        {
         "name": "forecast_price_energy_peak",
         "rawType": "float64",
         "type": "float"
        },
        {
         "name": "forecast_price_pow_off_peak",
         "rawType": "float64",
         "type": "float"
        },
        {
         "name": "has_gas",
         "rawType": "object",
         "type": "string"
        },
        {
         "name": "imp_cons",
         "rawType": "float64",
         "type": "float"
        },
        {
         "name": "margin_gross_pow_ele",
         "rawType": "float64",
         "type": "float"
        },
        {
         "name": "margin_net_pow_ele",
         "rawType": "float64",
         "type": "float"
        },
        {
         "name": "nb_prod_act",
         "rawType": "int64",
         "type": "integer"
        },
        {
         "name": "net_margin",
         "rawType": "float64",
         "type": "float"
        },
        {
         "name": "num_years_antig",
         "rawType": "int64",
         "type": "integer"
        },
        {
         "name": "origin_up",
         "rawType": "object",
         "type": "string"
        },
        {
         "name": "pow_max",
         "rawType": "float64",
         "type": "float"
        },
        {
         "name": "churn",
         "rawType": "int64",
         "type": "integer"
        }
       ],
       "conversionMethod": "pd.DataFrame",
       "ref": "25315d5c-70bd-4c1f-8692-98a42f11dbdd",
       "rows": [
        [
         "0",
         "24011ae4ebbe3035111d65fa7c15bc57",
         "foosdfpfkusacimwkcsosbicdxkicaua",
         "0",
         "54946",
         "0",
         "2013-06-15",
         "2016-06-15",
         "2015-11-01",
         "2015-06-23",
         "0.0",
         "0",
         "0.0",
         "1.78",
         "0.114481",
         "0.098142",
         "40.606701",
         "t",
         "0.0",
         "25.44",
         "25.44",
         "2",
         "678.99",
         "3",
         "lxidpiddsbxsbosboudacockeimpuepw",
         "43.648",
         "1"
        ],
        [
         "1",
         "d29c2c54acc38ff3c0614d0a653813dd",
         "MISSING",
         "4660",
         "0",
         "0",
         "2009-08-21",
         "2016-08-30",
         "2009-08-21",
         "2015-08-31",
         "189.95",
         "0",
         "0.0",
         "16.27",
         "0.1457109999999999",
         "0.0",
         "44.31137796",
         "f",
         "0.0",
         "16.38",
         "16.38",
         "1",
         "18.89",
         "6",
         "kamkkxfxxuwbdslkwifmmcsiusiuosws",
         "13.8",
         "0"
        ],
        [
         "2",
         "764c75f661154dac3a6c254cd082ea7d",
         "foosdfpfkusacimwkcsosbicdxkicaua",
         "544",
         "0",
         "0",
         "2010-04-16",
         "2016-04-16",
         "2010-04-16",
         "2015-04-17",
         "47.96",
         "0",
         "0.0",
         "38.72",
         "0.165794",
         "0.087899",
         "44.31137796",
         "f",
         "0.0",
         "28.6",
         "28.6",
         "1",
         "6.6",
         "6",
         "kamkkxfxxuwbdslkwifmmcsiusiuosws",
         "13.856",
         "0"
        ],
        [
         "3",
         "bba03439a292a1e166f80264c16191cb",
         "lmkebamcaaclubfxadlmueccxoimlema",
         "1584",
         "0",
         "0",
         "2010-03-30",
         "2016-03-30",
         "2010-03-30",
         "2015-03-31",
         "240.04",
         "0",
         "0.0",
         "19.83",
         "0.146694",
         "0.0",
         "44.31137796",
         "f",
         "0.0",
         "30.22",
         "30.22",
         "1",
         "25.46",
         "6",
         "kamkkxfxxuwbdslkwifmmcsiusiuosws",
         "13.2",
         "0"
        ],
        [
         "4",
         "149d57cf92fc41cf94415803a877cb4b",
         "MISSING",
         "4425",
         "0",
         "526",
         "2010-01-13",
         "2016-03-07",
         "2010-01-13",
         "2015-03-09",
         "445.75",
         "526",
         "0.0",
         "131.73",
         "0.1169",
         "0.1000149999999999",
         "40.606701",
         "f",
         "52.32",
         "44.91",
         "44.91",
         "1",
         "47.98",
         "6",
         "kamkkxfxxuwbdslkwifmmcsiusiuosws",
         "19.8",
         "0"
        ]
       ],
       "shape": {
        "columns": 26,
        "rows": 5
       }
      },
      "text/html": [
       "<div>\n",
       "<style scoped>\n",
       "    .dataframe tbody tr th:only-of-type {\n",
       "        vertical-align: middle;\n",
       "    }\n",
       "\n",
       "    .dataframe tbody tr th {\n",
       "        vertical-align: top;\n",
       "    }\n",
       "\n",
       "    .dataframe thead th {\n",
       "        text-align: right;\n",
       "    }\n",
       "</style>\n",
       "<table border=\"1\" class=\"dataframe\">\n",
       "  <thead>\n",
       "    <tr style=\"text-align: right;\">\n",
       "      <th></th>\n",
       "      <th>id</th>\n",
       "      <th>channel_sales</th>\n",
       "      <th>cons_12m</th>\n",
       "      <th>cons_gas_12m</th>\n",
       "      <th>cons_last_month</th>\n",
       "      <th>date_activ</th>\n",
       "      <th>date_end</th>\n",
       "      <th>date_modif_prod</th>\n",
       "      <th>date_renewal</th>\n",
       "      <th>forecast_cons_12m</th>\n",
       "      <th>...</th>\n",
       "      <th>has_gas</th>\n",
       "      <th>imp_cons</th>\n",
       "      <th>margin_gross_pow_ele</th>\n",
       "      <th>margin_net_pow_ele</th>\n",
       "      <th>nb_prod_act</th>\n",
       "      <th>net_margin</th>\n",
       "      <th>num_years_antig</th>\n",
       "      <th>origin_up</th>\n",
       "      <th>pow_max</th>\n",
       "      <th>churn</th>\n",
       "    </tr>\n",
       "  </thead>\n",
       "  <tbody>\n",
       "    <tr>\n",
       "      <th>0</th>\n",
       "      <td>24011ae4ebbe3035111d65fa7c15bc57</td>\n",
       "      <td>foosdfpfkusacimwkcsosbicdxkicaua</td>\n",
       "      <td>0</td>\n",
       "      <td>54946</td>\n",
       "      <td>0</td>\n",
       "      <td>2013-06-15</td>\n",
       "      <td>2016-06-15</td>\n",
       "      <td>2015-11-01</td>\n",
       "      <td>2015-06-23</td>\n",
       "      <td>0.00</td>\n",
       "      <td>...</td>\n",
       "      <td>t</td>\n",
       "      <td>0.00</td>\n",
       "      <td>25.44</td>\n",
       "      <td>25.44</td>\n",
       "      <td>2</td>\n",
       "      <td>678.99</td>\n",
       "      <td>3</td>\n",
       "      <td>lxidpiddsbxsbosboudacockeimpuepw</td>\n",
       "      <td>43.648</td>\n",
       "      <td>1</td>\n",
       "    </tr>\n",
       "    <tr>\n",
       "      <th>1</th>\n",
       "      <td>d29c2c54acc38ff3c0614d0a653813dd</td>\n",
       "      <td>MISSING</td>\n",
       "      <td>4660</td>\n",
       "      <td>0</td>\n",
       "      <td>0</td>\n",
       "      <td>2009-08-21</td>\n",
       "      <td>2016-08-30</td>\n",
       "      <td>2009-08-21</td>\n",
       "      <td>2015-08-31</td>\n",
       "      <td>189.95</td>\n",
       "      <td>...</td>\n",
       "      <td>f</td>\n",
       "      <td>0.00</td>\n",
       "      <td>16.38</td>\n",
       "      <td>16.38</td>\n",
       "      <td>1</td>\n",
       "      <td>18.89</td>\n",
       "      <td>6</td>\n",
       "      <td>kamkkxfxxuwbdslkwifmmcsiusiuosws</td>\n",
       "      <td>13.800</td>\n",
       "      <td>0</td>\n",
       "    </tr>\n",
       "    <tr>\n",
       "      <th>2</th>\n",
       "      <td>764c75f661154dac3a6c254cd082ea7d</td>\n",
       "      <td>foosdfpfkusacimwkcsosbicdxkicaua</td>\n",
       "      <td>544</td>\n",
       "      <td>0</td>\n",
       "      <td>0</td>\n",
       "      <td>2010-04-16</td>\n",
       "      <td>2016-04-16</td>\n",
       "      <td>2010-04-16</td>\n",
       "      <td>2015-04-17</td>\n",
       "      <td>47.96</td>\n",
       "      <td>...</td>\n",
       "      <td>f</td>\n",
       "      <td>0.00</td>\n",
       "      <td>28.60</td>\n",
       "      <td>28.60</td>\n",
       "      <td>1</td>\n",
       "      <td>6.60</td>\n",
       "      <td>6</td>\n",
       "      <td>kamkkxfxxuwbdslkwifmmcsiusiuosws</td>\n",
       "      <td>13.856</td>\n",
       "      <td>0</td>\n",
       "    </tr>\n",
       "    <tr>\n",
       "      <th>3</th>\n",
       "      <td>bba03439a292a1e166f80264c16191cb</td>\n",
       "      <td>lmkebamcaaclubfxadlmueccxoimlema</td>\n",
       "      <td>1584</td>\n",
       "      <td>0</td>\n",
       "      <td>0</td>\n",
       "      <td>2010-03-30</td>\n",
       "      <td>2016-03-30</td>\n",
       "      <td>2010-03-30</td>\n",
       "      <td>2015-03-31</td>\n",
       "      <td>240.04</td>\n",
       "      <td>...</td>\n",
       "      <td>f</td>\n",
       "      <td>0.00</td>\n",
       "      <td>30.22</td>\n",
       "      <td>30.22</td>\n",
       "      <td>1</td>\n",
       "      <td>25.46</td>\n",
       "      <td>6</td>\n",
       "      <td>kamkkxfxxuwbdslkwifmmcsiusiuosws</td>\n",
       "      <td>13.200</td>\n",
       "      <td>0</td>\n",
       "    </tr>\n",
       "    <tr>\n",
       "      <th>4</th>\n",
       "      <td>149d57cf92fc41cf94415803a877cb4b</td>\n",
       "      <td>MISSING</td>\n",
       "      <td>4425</td>\n",
       "      <td>0</td>\n",
       "      <td>526</td>\n",
       "      <td>2010-01-13</td>\n",
       "      <td>2016-03-07</td>\n",
       "      <td>2010-01-13</td>\n",
       "      <td>2015-03-09</td>\n",
       "      <td>445.75</td>\n",
       "      <td>...</td>\n",
       "      <td>f</td>\n",
       "      <td>52.32</td>\n",
       "      <td>44.91</td>\n",
       "      <td>44.91</td>\n",
       "      <td>1</td>\n",
       "      <td>47.98</td>\n",
       "      <td>6</td>\n",
       "      <td>kamkkxfxxuwbdslkwifmmcsiusiuosws</td>\n",
       "      <td>19.800</td>\n",
       "      <td>0</td>\n",
       "    </tr>\n",
       "  </tbody>\n",
       "</table>\n",
       "<p>5 rows × 26 columns</p>\n",
       "</div>"
      ],
      "text/plain": [
       "                                 id                     channel_sales  \\\n",
       "0  24011ae4ebbe3035111d65fa7c15bc57  foosdfpfkusacimwkcsosbicdxkicaua   \n",
       "1  d29c2c54acc38ff3c0614d0a653813dd                           MISSING   \n",
       "2  764c75f661154dac3a6c254cd082ea7d  foosdfpfkusacimwkcsosbicdxkicaua   \n",
       "3  bba03439a292a1e166f80264c16191cb  lmkebamcaaclubfxadlmueccxoimlema   \n",
       "4  149d57cf92fc41cf94415803a877cb4b                           MISSING   \n",
       "\n",
       "   cons_12m  cons_gas_12m  cons_last_month  date_activ    date_end  \\\n",
       "0         0         54946                0  2013-06-15  2016-06-15   \n",
       "1      4660             0                0  2009-08-21  2016-08-30   \n",
       "2       544             0                0  2010-04-16  2016-04-16   \n",
       "3      1584             0                0  2010-03-30  2016-03-30   \n",
       "4      4425             0              526  2010-01-13  2016-03-07   \n",
       "\n",
       "  date_modif_prod date_renewal  forecast_cons_12m  ...  has_gas  imp_cons  \\\n",
       "0      2015-11-01   2015-06-23               0.00  ...        t      0.00   \n",
       "1      2009-08-21   2015-08-31             189.95  ...        f      0.00   \n",
       "2      2010-04-16   2015-04-17              47.96  ...        f      0.00   \n",
       "3      2010-03-30   2015-03-31             240.04  ...        f      0.00   \n",
       "4      2010-01-13   2015-03-09             445.75  ...        f     52.32   \n",
       "\n",
       "   margin_gross_pow_ele  margin_net_pow_ele  nb_prod_act  net_margin  \\\n",
       "0                 25.44               25.44            2      678.99   \n",
       "1                 16.38               16.38            1       18.89   \n",
       "2                 28.60               28.60            1        6.60   \n",
       "3                 30.22               30.22            1       25.46   \n",
       "4                 44.91               44.91            1       47.98   \n",
       "\n",
       "  num_years_antig                         origin_up  pow_max  churn  \n",
       "0               3  lxidpiddsbxsbosboudacockeimpuepw   43.648      1  \n",
       "1               6  kamkkxfxxuwbdslkwifmmcsiusiuosws   13.800      0  \n",
       "2               6  kamkkxfxxuwbdslkwifmmcsiusiuosws   13.856      0  \n",
       "3               6  kamkkxfxxuwbdslkwifmmcsiusiuosws   13.200      0  \n",
       "4               6  kamkkxfxxuwbdslkwifmmcsiusiuosws   19.800      0  \n",
       "\n",
       "[5 rows x 26 columns]"
      ]
     },
     "execution_count": 10,
     "metadata": {},
     "output_type": "execute_result"
    }
   ],
   "source": [
    "df_client_data.head()"
   ]
  },
  {
   "cell_type": "code",
   "execution_count": 11,
   "metadata": {},
   "outputs": [
    {
     "data": {
      "application/vnd.microsoft.datawrangler.viewer.v0+json": {
       "columns": [
        {
         "name": "index",
         "rawType": "int64",
         "type": "integer"
        },
        {
         "name": "id",
         "rawType": "object",
         "type": "string"
        },
        {
         "name": "channel_sales",
         "rawType": "object",
         "type": "string"
        },
        {
         "name": "cons_12m",
         "rawType": "int64",
         "type": "integer"
        },
        {
         "name": "cons_gas_12m",
         "rawType": "int64",
         "type": "integer"
        },
        {
         "name": "cons_last_month",
         "rawType": "int64",
         "type": "integer"
        },
        {
         "name": "date_activ",
         "rawType": "object",
         "type": "string"
        },
        {
         "name": "date_end",
         "rawType": "object",
         "type": "string"
        },
        {
         "name": "date_modif_prod",
         "rawType": "object",
         "type": "string"
        },
        {
         "name": "date_renewal",
         "rawType": "object",
         "type": "string"
        },
        {
         "name": "forecast_cons_12m",
         "rawType": "float64",
         "type": "float"
        },
        {
         "name": "forecast_cons_year",
         "rawType": "int64",
         "type": "integer"
        },
        {
         "name": "forecast_discount_energy",
         "rawType": "float64",
         "type": "float"
        },
        {
         "name": "forecast_meter_rent_12m",
         "rawType": "float64",
         "type": "float"
        },
        {
         "name": "forecast_price_energy_off_peak",
         "rawType": "float64",
         "type": "float"
        },
        {
         "name": "forecast_price_energy_peak",
         "rawType": "float64",
         "type": "float"
        },
        {
         "name": "forecast_price_pow_off_peak",
         "rawType": "float64",
         "type": "float"
        },
        {
         "name": "has_gas",
         "rawType": "object",
         "type": "string"
        },
        {
         "name": "imp_cons",
         "rawType": "float64",
         "type": "float"
        },
        {
         "name": "margin_gross_pow_ele",
         "rawType": "float64",
         "type": "float"
        },
        {
         "name": "margin_net_pow_ele",
         "rawType": "float64",
         "type": "float"
        },
        {
         "name": "nb_prod_act",
         "rawType": "int64",
         "type": "integer"
        },
        {
         "name": "net_margin",
         "rawType": "float64",
         "type": "float"
        },
        {
         "name": "num_years_antig",
         "rawType": "int64",
         "type": "integer"
        },
        {
         "name": "origin_up",
         "rawType": "object",
         "type": "string"
        },
        {
         "name": "pow_max",
         "rawType": "float64",
         "type": "float"
        },
        {
         "name": "churn",
         "rawType": "int64",
         "type": "integer"
        }
       ],
       "conversionMethod": "pd.DataFrame",
       "ref": "2cffe3b5-ca5e-4887-be7c-7b7a9ddfeb09",
       "rows": [
        [
         "14601",
         "18463073fb097fc0ac5d3e040f356987",
         "foosdfpfkusacimwkcsosbicdxkicaua",
         "32270",
         "47940",
         "0",
         "2012-05-24",
         "2016-05-08",
         "2015-05-08",
         "2014-05-26",
         "4648.01",
         "0",
         "0.0",
         "18.57",
         "0.1383049999999999",
         "0.0",
         "44.31137796",
         "t",
         "0.0",
         "27.88",
         "27.88",
         "2",
         "381.77",
         "4",
         "lxidpiddsbxsbosboudacockeimpuepw",
         "15.0",
         "0"
        ],
        [
         "14602",
         "d0a6f71671571ed83b2645d23af6de00",
         "foosdfpfkusacimwkcsosbicdxkicaua",
         "7223",
         "0",
         "181",
         "2012-08-27",
         "2016-08-27",
         "2012-08-27",
         "2015-08-28",
         "631.69",
         "181",
         "0.0",
         "144.03",
         "0.1001669999999999",
         "0.091892",
         "58.99595196",
         "f",
         "15.94",
         "0.0",
         "0.0",
         "1",
         "90.34",
         "3",
         "lxidpiddsbxsbosboudacockeimpuepw",
         "6.0",
         "1"
        ],
        [
         "14603",
         "10e6828ddd62cbcf687cb74928c4c2d2",
         "foosdfpfkusacimwkcsosbicdxkicaua",
         "1844",
         "0",
         "179",
         "2012-02-08",
         "2016-02-07",
         "2012-02-08",
         "2015-02-09",
         "190.39",
         "179",
         "0.0",
         "129.6",
         "0.1169",
         "0.1000149999999999",
         "40.606701",
         "f",
         "18.05",
         "39.84",
         "39.84",
         "1",
         "20.38",
         "4",
         "lxidpiddsbxsbosboudacockeimpuepw",
         "15.935",
         "1"
        ],
        [
         "14604",
         "1cf20fd6206d7678d5bcafd28c53b4db",
         "foosdfpfkusacimwkcsosbicdxkicaua",
         "131",
         "0",
         "0",
         "2012-08-30",
         "2016-08-30",
         "2012-08-30",
         "2015-08-31",
         "19.34",
         "0",
         "0.0",
         "7.18",
         "0.1457109999999999",
         "0.0",
         "44.31137796",
         "f",
         "0.0",
         "13.08",
         "13.08",
         "1",
         "0.96",
         "3",
         "lxidpiddsbxsbosboudacockeimpuepw",
         "11.0",
         "0"
        ],
        [
         "14605",
         "563dde550fd624d7352f3de77c0cdfcd",
         "MISSING",
         "8730",
         "0",
         "0",
         "2009-12-18",
         "2016-12-17",
         "2009-12-18",
         "2015-12-21",
         "762.41",
         "0",
         "0.0",
         "1.07",
         "0.1670859999999999",
         "0.0884539999999999",
         "45.31137756",
         "f",
         "0.0",
         "11.84",
         "11.84",
         "1",
         "96.34",
         "6",
         "ldkssxwpmemidmecebumciepifcamkci",
         "10.392",
         "0"
        ]
       ],
       "shape": {
        "columns": 26,
        "rows": 5
       }
      },
      "text/html": [
       "<div>\n",
       "<style scoped>\n",
       "    .dataframe tbody tr th:only-of-type {\n",
       "        vertical-align: middle;\n",
       "    }\n",
       "\n",
       "    .dataframe tbody tr th {\n",
       "        vertical-align: top;\n",
       "    }\n",
       "\n",
       "    .dataframe thead th {\n",
       "        text-align: right;\n",
       "    }\n",
       "</style>\n",
       "<table border=\"1\" class=\"dataframe\">\n",
       "  <thead>\n",
       "    <tr style=\"text-align: right;\">\n",
       "      <th></th>\n",
       "      <th>id</th>\n",
       "      <th>channel_sales</th>\n",
       "      <th>cons_12m</th>\n",
       "      <th>cons_gas_12m</th>\n",
       "      <th>cons_last_month</th>\n",
       "      <th>date_activ</th>\n",
       "      <th>date_end</th>\n",
       "      <th>date_modif_prod</th>\n",
       "      <th>date_renewal</th>\n",
       "      <th>forecast_cons_12m</th>\n",
       "      <th>...</th>\n",
       "      <th>has_gas</th>\n",
       "      <th>imp_cons</th>\n",
       "      <th>margin_gross_pow_ele</th>\n",
       "      <th>margin_net_pow_ele</th>\n",
       "      <th>nb_prod_act</th>\n",
       "      <th>net_margin</th>\n",
       "      <th>num_years_antig</th>\n",
       "      <th>origin_up</th>\n",
       "      <th>pow_max</th>\n",
       "      <th>churn</th>\n",
       "    </tr>\n",
       "  </thead>\n",
       "  <tbody>\n",
       "    <tr>\n",
       "      <th>14601</th>\n",
       "      <td>18463073fb097fc0ac5d3e040f356987</td>\n",
       "      <td>foosdfpfkusacimwkcsosbicdxkicaua</td>\n",
       "      <td>32270</td>\n",
       "      <td>47940</td>\n",
       "      <td>0</td>\n",
       "      <td>2012-05-24</td>\n",
       "      <td>2016-05-08</td>\n",
       "      <td>2015-05-08</td>\n",
       "      <td>2014-05-26</td>\n",
       "      <td>4648.01</td>\n",
       "      <td>...</td>\n",
       "      <td>t</td>\n",
       "      <td>0.00</td>\n",
       "      <td>27.88</td>\n",
       "      <td>27.88</td>\n",
       "      <td>2</td>\n",
       "      <td>381.77</td>\n",
       "      <td>4</td>\n",
       "      <td>lxidpiddsbxsbosboudacockeimpuepw</td>\n",
       "      <td>15.000</td>\n",
       "      <td>0</td>\n",
       "    </tr>\n",
       "    <tr>\n",
       "      <th>14602</th>\n",
       "      <td>d0a6f71671571ed83b2645d23af6de00</td>\n",
       "      <td>foosdfpfkusacimwkcsosbicdxkicaua</td>\n",
       "      <td>7223</td>\n",
       "      <td>0</td>\n",
       "      <td>181</td>\n",
       "      <td>2012-08-27</td>\n",
       "      <td>2016-08-27</td>\n",
       "      <td>2012-08-27</td>\n",
       "      <td>2015-08-28</td>\n",
       "      <td>631.69</td>\n",
       "      <td>...</td>\n",
       "      <td>f</td>\n",
       "      <td>15.94</td>\n",
       "      <td>0.00</td>\n",
       "      <td>0.00</td>\n",
       "      <td>1</td>\n",
       "      <td>90.34</td>\n",
       "      <td>3</td>\n",
       "      <td>lxidpiddsbxsbosboudacockeimpuepw</td>\n",
       "      <td>6.000</td>\n",
       "      <td>1</td>\n",
       "    </tr>\n",
       "    <tr>\n",
       "      <th>14603</th>\n",
       "      <td>10e6828ddd62cbcf687cb74928c4c2d2</td>\n",
       "      <td>foosdfpfkusacimwkcsosbicdxkicaua</td>\n",
       "      <td>1844</td>\n",
       "      <td>0</td>\n",
       "      <td>179</td>\n",
       "      <td>2012-02-08</td>\n",
       "      <td>2016-02-07</td>\n",
       "      <td>2012-02-08</td>\n",
       "      <td>2015-02-09</td>\n",
       "      <td>190.39</td>\n",
       "      <td>...</td>\n",
       "      <td>f</td>\n",
       "      <td>18.05</td>\n",
       "      <td>39.84</td>\n",
       "      <td>39.84</td>\n",
       "      <td>1</td>\n",
       "      <td>20.38</td>\n",
       "      <td>4</td>\n",
       "      <td>lxidpiddsbxsbosboudacockeimpuepw</td>\n",
       "      <td>15.935</td>\n",
       "      <td>1</td>\n",
       "    </tr>\n",
       "    <tr>\n",
       "      <th>14604</th>\n",
       "      <td>1cf20fd6206d7678d5bcafd28c53b4db</td>\n",
       "      <td>foosdfpfkusacimwkcsosbicdxkicaua</td>\n",
       "      <td>131</td>\n",
       "      <td>0</td>\n",
       "      <td>0</td>\n",
       "      <td>2012-08-30</td>\n",
       "      <td>2016-08-30</td>\n",
       "      <td>2012-08-30</td>\n",
       "      <td>2015-08-31</td>\n",
       "      <td>19.34</td>\n",
       "      <td>...</td>\n",
       "      <td>f</td>\n",
       "      <td>0.00</td>\n",
       "      <td>13.08</td>\n",
       "      <td>13.08</td>\n",
       "      <td>1</td>\n",
       "      <td>0.96</td>\n",
       "      <td>3</td>\n",
       "      <td>lxidpiddsbxsbosboudacockeimpuepw</td>\n",
       "      <td>11.000</td>\n",
       "      <td>0</td>\n",
       "    </tr>\n",
       "    <tr>\n",
       "      <th>14605</th>\n",
       "      <td>563dde550fd624d7352f3de77c0cdfcd</td>\n",
       "      <td>MISSING</td>\n",
       "      <td>8730</td>\n",
       "      <td>0</td>\n",
       "      <td>0</td>\n",
       "      <td>2009-12-18</td>\n",
       "      <td>2016-12-17</td>\n",
       "      <td>2009-12-18</td>\n",
       "      <td>2015-12-21</td>\n",
       "      <td>762.41</td>\n",
       "      <td>...</td>\n",
       "      <td>f</td>\n",
       "      <td>0.00</td>\n",
       "      <td>11.84</td>\n",
       "      <td>11.84</td>\n",
       "      <td>1</td>\n",
       "      <td>96.34</td>\n",
       "      <td>6</td>\n",
       "      <td>ldkssxwpmemidmecebumciepifcamkci</td>\n",
       "      <td>10.392</td>\n",
       "      <td>0</td>\n",
       "    </tr>\n",
       "  </tbody>\n",
       "</table>\n",
       "<p>5 rows × 26 columns</p>\n",
       "</div>"
      ],
      "text/plain": [
       "                                     id                     channel_sales  \\\n",
       "14601  18463073fb097fc0ac5d3e040f356987  foosdfpfkusacimwkcsosbicdxkicaua   \n",
       "14602  d0a6f71671571ed83b2645d23af6de00  foosdfpfkusacimwkcsosbicdxkicaua   \n",
       "14603  10e6828ddd62cbcf687cb74928c4c2d2  foosdfpfkusacimwkcsosbicdxkicaua   \n",
       "14604  1cf20fd6206d7678d5bcafd28c53b4db  foosdfpfkusacimwkcsosbicdxkicaua   \n",
       "14605  563dde550fd624d7352f3de77c0cdfcd                           MISSING   \n",
       "\n",
       "       cons_12m  cons_gas_12m  cons_last_month  date_activ    date_end  \\\n",
       "14601     32270         47940                0  2012-05-24  2016-05-08   \n",
       "14602      7223             0              181  2012-08-27  2016-08-27   \n",
       "14603      1844             0              179  2012-02-08  2016-02-07   \n",
       "14604       131             0                0  2012-08-30  2016-08-30   \n",
       "14605      8730             0                0  2009-12-18  2016-12-17   \n",
       "\n",
       "      date_modif_prod date_renewal  forecast_cons_12m  ...  has_gas  imp_cons  \\\n",
       "14601      2015-05-08   2014-05-26            4648.01  ...        t      0.00   \n",
       "14602      2012-08-27   2015-08-28             631.69  ...        f     15.94   \n",
       "14603      2012-02-08   2015-02-09             190.39  ...        f     18.05   \n",
       "14604      2012-08-30   2015-08-31              19.34  ...        f      0.00   \n",
       "14605      2009-12-18   2015-12-21             762.41  ...        f      0.00   \n",
       "\n",
       "       margin_gross_pow_ele  margin_net_pow_ele  nb_prod_act  net_margin  \\\n",
       "14601                 27.88               27.88            2      381.77   \n",
       "14602                  0.00                0.00            1       90.34   \n",
       "14603                 39.84               39.84            1       20.38   \n",
       "14604                 13.08               13.08            1        0.96   \n",
       "14605                 11.84               11.84            1       96.34   \n",
       "\n",
       "      num_years_antig                         origin_up  pow_max  churn  \n",
       "14601               4  lxidpiddsbxsbosboudacockeimpuepw   15.000      0  \n",
       "14602               3  lxidpiddsbxsbosboudacockeimpuepw    6.000      1  \n",
       "14603               4  lxidpiddsbxsbosboudacockeimpuepw   15.935      1  \n",
       "14604               3  lxidpiddsbxsbosboudacockeimpuepw   11.000      0  \n",
       "14605               6  ldkssxwpmemidmecebumciepifcamkci   10.392      0  \n",
       "\n",
       "[5 rows x 26 columns]"
      ]
     },
     "execution_count": 11,
     "metadata": {},
     "output_type": "execute_result"
    }
   ],
   "source": [
    "df_client_data.tail()"
   ]
  },
  {
   "cell_type": "code",
   "execution_count": 12,
   "metadata": {},
   "outputs": [
    {
     "name": "stdout",
     "output_type": "stream",
     "text": [
      "<class 'pandas.core.frame.DataFrame'>\n",
      "RangeIndex: 14606 entries, 0 to 14605\n",
      "Data columns (total 26 columns):\n",
      " #   Column                          Non-Null Count  Dtype  \n",
      "---  ------                          --------------  -----  \n",
      " 0   id                              14606 non-null  object \n",
      " 1   channel_sales                   14606 non-null  object \n",
      " 2   cons_12m                        14606 non-null  int64  \n",
      " 3   cons_gas_12m                    14606 non-null  int64  \n",
      " 4   cons_last_month                 14606 non-null  int64  \n",
      " 5   date_activ                      14606 non-null  object \n",
      " 6   date_end                        14606 non-null  object \n",
      " 7   date_modif_prod                 14606 non-null  object \n",
      " 8   date_renewal                    14606 non-null  object \n",
      " 9   forecast_cons_12m               14606 non-null  float64\n",
      " 10  forecast_cons_year              14606 non-null  int64  \n",
      " 11  forecast_discount_energy        14606 non-null  float64\n",
      " 12  forecast_meter_rent_12m         14606 non-null  float64\n",
      " 13  forecast_price_energy_off_peak  14606 non-null  float64\n",
      " 14  forecast_price_energy_peak      14606 non-null  float64\n",
      " 15  forecast_price_pow_off_peak     14606 non-null  float64\n",
      " 16  has_gas                         14606 non-null  object \n",
      " 17  imp_cons                        14606 non-null  float64\n",
      " 18  margin_gross_pow_ele            14606 non-null  float64\n",
      " 19  margin_net_pow_ele              14606 non-null  float64\n",
      " 20  nb_prod_act                     14606 non-null  int64  \n",
      " 21  net_margin                      14606 non-null  float64\n",
      " 22  num_years_antig                 14606 non-null  int64  \n",
      " 23  origin_up                       14606 non-null  object \n",
      " 24  pow_max                         14606 non-null  float64\n",
      " 25  churn                           14606 non-null  int64  \n",
      "dtypes: float64(11), int64(7), object(8)\n",
      "memory usage: 2.9+ MB\n"
     ]
    }
   ],
   "source": [
    "df_client_data.info()"
   ]
  },
  {
   "cell_type": "code",
   "execution_count": 14,
   "metadata": {},
   "outputs": [
    {
     "data": {
      "text/plain": [
       "(14606, 26)"
      ]
     },
     "execution_count": 14,
     "metadata": {},
     "output_type": "execute_result"
    }
   ],
   "source": [
    "df_client_data.shape"
   ]
  },
  {
   "cell_type": "code",
   "execution_count": 15,
   "metadata": {},
   "outputs": [
    {
     "data": {
      "text/plain": [
       "0"
      ]
     },
     "execution_count": 15,
     "metadata": {},
     "output_type": "execute_result"
    }
   ],
   "source": [
    "df_client_data.duplicated().sum()"
   ]
  },
  {
   "cell_type": "code",
   "execution_count": 16,
   "metadata": {},
   "outputs": [
    {
     "data": {
      "text/plain": [
       "id                                0\n",
       "channel_sales                     0\n",
       "cons_12m                          0\n",
       "cons_gas_12m                      0\n",
       "cons_last_month                   0\n",
       "date_activ                        0\n",
       "date_end                          0\n",
       "date_modif_prod                   0\n",
       "date_renewal                      0\n",
       "forecast_cons_12m                 0\n",
       "forecast_cons_year                0\n",
       "forecast_discount_energy          0\n",
       "forecast_meter_rent_12m           0\n",
       "forecast_price_energy_off_peak    0\n",
       "forecast_price_energy_peak        0\n",
       "forecast_price_pow_off_peak       0\n",
       "has_gas                           0\n",
       "imp_cons                          0\n",
       "margin_gross_pow_ele              0\n",
       "margin_net_pow_ele                0\n",
       "nb_prod_act                       0\n",
       "net_margin                        0\n",
       "num_years_antig                   0\n",
       "origin_up                         0\n",
       "pow_max                           0\n",
       "churn                             0\n",
       "dtype: int64"
      ]
     },
     "execution_count": 16,
     "metadata": {},
     "output_type": "execute_result"
    }
   ],
   "source": [
    "df_client_data.isna().sum()"
   ]
  },
  {
   "cell_type": "code",
   "execution_count": 17,
   "metadata": {},
   "outputs": [
    {
     "data": {
      "text/plain": [
       "Index(['id', 'channel_sales', 'cons_12m', 'cons_gas_12m', 'cons_last_month',\n",
       "       'date_activ', 'date_end', 'date_modif_prod', 'date_renewal',\n",
       "       'forecast_cons_12m', 'forecast_cons_year', 'forecast_discount_energy',\n",
       "       'forecast_meter_rent_12m', 'forecast_price_energy_off_peak',\n",
       "       'forecast_price_energy_peak', 'forecast_price_pow_off_peak', 'has_gas',\n",
       "       'imp_cons', 'margin_gross_pow_ele', 'margin_net_pow_ele', 'nb_prod_act',\n",
       "       'net_margin', 'num_years_antig', 'origin_up', 'pow_max', 'churn'],\n",
       "      dtype='object')"
      ]
     },
     "execution_count": 17,
     "metadata": {},
     "output_type": "execute_result"
    }
   ],
   "source": [
    "df_client_data.columns"
   ]
  },
  {
   "cell_type": "code",
   "execution_count": null,
   "metadata": {},
   "outputs": [],
   "source": []
  }
 ],
 "metadata": {
  "kernelspec": {
   "display_name": "base",
   "language": "python",
   "name": "python3"
  },
  "language_info": {
   "codemirror_mode": {
    "name": "ipython",
    "version": 3
   },
   "file_extension": ".py",
   "mimetype": "text/x-python",
   "name": "python",
   "nbconvert_exporter": "python",
   "pygments_lexer": "ipython3",
   "version": "3.12.3"
  }
 },
 "nbformat": 4,
 "nbformat_minor": 2
}
